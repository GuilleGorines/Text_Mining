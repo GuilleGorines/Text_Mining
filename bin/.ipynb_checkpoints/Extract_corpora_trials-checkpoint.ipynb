{
 "cells": [
  {
   "cell_type": "code",
   "execution_count": 3,
   "metadata": {},
   "outputs": [],
   "source": [
    "from Bio import Medline\n",
    "from Bio import Entrez"
   ]
  },
  {
   "cell_type": "code",
   "execution_count": 10,
   "metadata": {},
   "outputs": [],
   "source": [
    "term = \"Bacteremia and Sepsis Hagel S\"\n",
    "\n",
    "Entrez.max_tries=5\n",
    "Entrez.email=\"\" # Necesario o error\n",
    "\n",
    "scout_search = Entrez.esearch(db=\"pubmed\", rettype=\"count\", term = term)\n",
    "scout_result = Entrez.read(scout_search)\n",
    "id_quantity = int(scout_result[\"Count\"])\n",
    "message = f\"La cantidad de resultados es {id_quantity} para el término de búsqueda \\\"{term}\\\".\""
   ]
  },
  {
   "cell_type": "code",
   "execution_count": 11,
   "metadata": {},
   "outputs": [
    {
     "name": "stdout",
     "output_type": "stream",
     "text": [
      "La cantidad de resultados es 12 para el término de búsqueda \"Bacteremia and Sepsis Hagel S\".\n"
     ]
    }
   ],
   "source": [
    "print(message)"
   ]
  },
  {
   "cell_type": "code",
   "execution_count": null,
   "metadata": {},
   "outputs": [],
   "source": [
    "if id_quantity > 100000:\n",
    "    rounds = round(id_quantity/100000)\n",
    "    retmax=100*1000\n",
    "else:\n",
    "    rounds = 1\n",
    "    retmax = id_quantity\n",
    "\n",
    "retstart=0\n",
    "abstracts=[]\n",
    "\n",
    "for round in range(0,rounds):\n",
    "    \n",
    "    search = Entrez.esearch(db=\"pubmed\", retmax=retmax, term=term)\n",
    "    \n",
    "    id_quantity -= retmax\n",
    "    retstart += retmax\n",
    "    if id_quantity < 100000:\n",
    "        retmax = id_quantity\n",
    "    \n",
    "    result = Entrez.read(search)\n",
    "       \n",
    "for single_id in result['IdList']:\n",
    "    search = Entrez.efetch(db=\"pubmed\", id=single_id, rettype=\"medline\", retmode=\"text\")\n",
    "    record = list(Medline.parse(search))\n",
    "    record = dict(record[0])\n",
    "    print(record)\n",
    "    try:\n",
    "        date = record[\"DP\"]\n",
    "        record = record[\"AB\"]\n",
    "        abstracts.append([date,record])\n",
    "    except KeyError:\n",
    "        pass\n",
    "\n"
   ]
  }
 ],
 "metadata": {
  "kernelspec": {
   "display_name": "Python 3",
   "language": "python",
   "name": "python3"
  },
  "language_info": {
   "codemirror_mode": {
    "name": "ipython",
    "version": 3
   },
   "file_extension": ".py",
   "mimetype": "text/x-python",
   "name": "python",
   "nbconvert_exporter": "python",
   "pygments_lexer": "ipython3",
   "version": "3.8.5"
  }
 },
 "nbformat": 4,
 "nbformat_minor": 4
}
