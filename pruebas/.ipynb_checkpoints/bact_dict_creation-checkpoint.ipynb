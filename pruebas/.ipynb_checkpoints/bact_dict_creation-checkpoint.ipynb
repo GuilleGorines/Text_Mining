{
 "cells": [
  {
   "cell_type": "code",
   "execution_count": null,
   "metadata": {},
   "outputs": [],
   "source": [
    "import json"
   ]
  },
  {
   "cell_type": "code",
   "execution_count": 1,
   "metadata": {},
   "outputs": [],
   "source": [
    "# From categories.dmp and names.dmp obtain a list of all bacteria (Taxid with B in categories.dmp)\n",
    "\n",
    "categories=\"C:/Users/34649/Downloads/categories.dmp\"\n",
    "names = \"C:/Users/34649/Downloads/names.dmp\"\n",
    "\n",
    "with open(categories, \"r+\") as categories:\n",
    "    dmp = [ line.split(\"\\t\")[1] for line in categories.readlines() if line.startswith(\"B\")]\n",
    "    \n",
    "with open(names,\"r+\") as names:\n",
    "    names = [ line.lower().replace(\"\\\"\",\"\").replace(\"\\'\",\"\").replace(\"[\",\"\").replace(\"]\",\"\").replace(\"\\t|\\n\",\"\").split(\"\\t|\\t\") for line in names.readlines() ]\n",
    "    names = [line for line in names if line[0] in dmp]\n"
   ]
  },
  {
   "cell_type": "code",
   "execution_count": 27,
   "metadata": {},
   "outputs": [],
   "source": [
    "# Save the file as a txt (tsv really) as a checkpoint (its a long process)\n",
    "with open(\"onlybact_names_full.txt\",\"w\") as file:\n",
    "    for datalist in names:\n",
    "        for element in datalist:\n",
    "                file.write(element)\n",
    "                if datalist.index(element) == len(datalist) - 1:\n",
    "                    file.write(\"\\n\")\n",
    "                else:\n",
    "                    file.write(\"\\t\")"
   ]
  },
  {
   "cell_type": "code",
   "execution_count": 28,
   "metadata": {},
   "outputs": [],
   "source": [
    "# Extract scientific names and generate a txt-tsv with all names (checkpoint)\n",
    "scientific_names = [[line[0], line[1]] for line in names if line[3] == \"scientific name\"]\n",
    "with open(\"bact_taxid_sciname.txt\",\"w\") as file:\n",
    "    for datalist in scientific_names:\n",
    "        for element in datalist:\n",
    "                file.write(element)\n",
    "                if datalist.index(element) == len(datalist) - 1:\n",
    "                    file.write(\"\\n\")\n",
    "                else:\n",
    "                    file.write(\"\\t\")"
   ]
  },
  {
   "cell_type": "code",
   "execution_count": 47,
   "metadata": {},
   "outputs": [],
   "source": [
    "# Group by genera name and create a dict: key is genera and values are species\n",
    "genera_dict = {}\n",
    "for species in scientific_names:\n",
    "    if \"sp.\" not in species and \"unidentified\" not in species and \"uncultured\" not in species and \"unknown\" not in species:\n",
    "        namelist = species[1].split()\n",
    "        if len(namelist) == 2:\n",
    "            genera_name = namelist[0]\n",
    "            if genera_name not in genera_dict.keys():\n",
    "                genera_dict.setdefault(genera_name,[]).append(species[1])\n",
    "            else:\n",
    "                genera_dict[genera_name].append(species[1])"
   ]
  },
  {
   "cell_type": "code",
   "execution_count": 50,
   "metadata": {},
   "outputs": [],
   "source": [
    "# Save the dict as a json for future use and checkpoint\n",
    "with open(\"genera_dict.json\", \"w\") as outfile:  \n",
    "    json.dump(genera_dict, outfile) "
   ]
  },
  {
   "cell_type": "code",
   "execution_count": 70,
   "metadata": {},
   "outputs": [],
   "source": [
    "# Save all interesting classes to link them to a species\n",
    "acceptable_classes = [\"synonym\",\"scientific name\",\"equivalent name\", \"common name\", \"genbank common name\", \"in-part\"]\n",
    "coloquialnames = [ line for line in names if line[3] in acceptable_classes ]"
   ]
  },
  {
   "cell_type": "code",
   "execution_count": 29,
   "metadata": {},
   "outputs": [],
   "source": [
    "# tsv with the result for checkpoint\n",
    "with open(\"bact_names_syn_scient_equiv_comm.txt\",\"w\") as file:\n",
    "    for datalist in coloquialnames:\n",
    "        for element in datalist:\n",
    "                file.write(element.lower())\n",
    "                if datalist.index(element) == len(datalist) - 1:\n",
    "                    file.write(\"\\n\")\n",
    "                else:\n",
    "                    file.write(\"\\t\")"
   ]
  },
  {
   "cell_type": "code",
   "execution_count": 73,
   "metadata": {},
   "outputs": [],
   "source": [
    "# generate a dictionary with key: taxid and value: all references to the species, always with the scientific name first\n",
    "names_to_spp_dict = {}\n",
    "\n",
    "for element in coloquialnames:\n",
    "    if element[0] not in names_to_spp_dict.keys():\n",
    "        names_to_spp_dict.setdefault(element[0],[]).append(element[1])\n",
    "    else:\n",
    "        if element[3] == \"scientific_name\":\n",
    "            names_to_spp_dict[element[0]].insert(element[1])\n",
    "        else:\n",
    "            names_to_spp_dict[element[0]].append(element[1])\n",
    "            \n",
    "# change the key to the first value\n",
    "names_to_spp_dict = {v[0] : v for k,v in names_to_spp_dict.items()}"
   ]
  },
  {
   "cell_type": "code",
   "execution_count": 65,
   "metadata": {},
   "outputs": [],
   "source": [
    "# generate the dictionary\n",
    "with open(\"species_name_dict.json\", \"w\") as outfile:  \n",
    "    json.dump(names_to_spp_dict, outfile) "
   ]
  }
 ],
 "metadata": {
  "kernelspec": {
   "display_name": "Python 3",
   "language": "python",
   "name": "python3"
  },
  "language_info": {
   "codemirror_mode": {
    "name": "ipython",
    "version": 3
   },
   "file_extension": ".py",
   "mimetype": "text/x-python",
   "name": "python",
   "nbconvert_exporter": "python",
   "pygments_lexer": "ipython3",
   "version": "3.8.5"
  }
 },
 "nbformat": 4,
 "nbformat_minor": 4
}
